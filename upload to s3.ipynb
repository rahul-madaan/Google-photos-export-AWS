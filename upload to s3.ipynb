{
 "cells": [
  {
   "cell_type": "code",
   "execution_count": 10,
   "metadata": {
    "collapsed": true
   },
   "outputs": [
    {
     "name": "stdout",
     "output_type": "stream",
     "text": [
      "gallery-archive\n"
     ]
    }
   ],
   "source": [
    "import boto3  # pip install boto3\n",
    "import pandas as pd\n",
    "import os\n",
    "\n",
    "credentials = pd.read_csv(\"macbook_air_rahul_accessKeys.csv\")\n",
    "\n",
    "session = boto3.Session(\n",
    "    aws_access_key_id=credentials.iloc[0][\"Access key ID\"],\n",
    "    aws_secret_access_key=credentials.iloc[0][\"Secret access key\"],\n",
    ")\n",
    "# Let's use Amazon S3\n",
    "s3 = session.resource(\"s3\")\n",
    "\n",
    "# Print out bucket names\n",
    "for bucket in s3.buckets.all():\n",
    "    print(bucket.name)"
   ]
  },
  {
   "cell_type": "code",
   "execution_count": 12,
   "outputs": [],
   "source": [
    "s3 = session.client(\"s3\")\n",
    "extra_args = {'StorageClass': 'DEEP_ARCHIVE'}\n",
    "# s3.upload_file(\n",
    "#     Filename=\"/Users/rahul.madan/Desktop/1910110300.png\",\n",
    "#     Bucket=\"gallery-archive\",\n",
    "#     Key='1910110300.png',\n",
    "#     ExtraArgs=extra_args\n",
    "# )"
   ],
   "metadata": {
    "collapsed": false
   }
  },
  {
   "cell_type": "code",
   "execution_count": 14,
   "outputs": [
    {
     "name": "stdout",
     "output_type": "stream",
     "text": [
      "Directory: /Users/rahul.madan/Desktop/untitled folder\n",
      "  Uploading /Users/rahul.madan/Desktop/untitled folder/IMG_7459.HEIC.json as gallery-archive/May21-Sep21/IMG_7459.HEIC.json\n",
      "  May21-Sep21/IMG_7459.HEIC.json: Upload Successful\n",
      "  ---------\n",
      "/Users/rahul.madan/Desktop/untitled folder\n",
      "  Uploading /Users/rahul.madan/Desktop/untitled folder/IMG_7458.HEIC as gallery-archive/May21-Sep21/IMG_7458.HEIC\n",
      "  May21-Sep21/IMG_7458.HEIC: Upload Successful\n",
      "  ---------\n",
      "/Users/rahul.madan/Desktop/untitled folder\n",
      "  Uploading /Users/rahul.madan/Desktop/untitled folder/IMG_1298.JPG.json as gallery-archive/May21-Sep21/IMG_1298.JPG.json\n",
      "  May21-Sep21/IMG_1298.JPG.json: Upload Successful\n",
      "  ---------\n",
      "/Users/rahul.madan/Desktop/untitled folder\n",
      "  Uploading /Users/rahul.madan/Desktop/untitled folder/IMG_7458.HEIC.json as gallery-archive/May21-Sep21/IMG_7458.HEIC.json\n",
      "  May21-Sep21/IMG_7458.HEIC.json: Upload Successful\n",
      "  ---------\n",
      "/Users/rahul.madan/Desktop/untitled folder\n",
      "  Uploading /Users/rahul.madan/Desktop/untitled folder/IMG_7459.HEIC as gallery-archive/May21-Sep21/IMG_7459.HEIC\n",
      "  May21-Sep21/IMG_7459.HEIC: Upload Successful\n",
      "  ---------\n",
      "/Users/rahul.madan/Desktop/untitled folder\n",
      "  Uploading /Users/rahul.madan/Desktop/untitled folder/20211104_220122 (1).jpg as gallery-archive/May21-Sep21/20211104_220122 (1).jpg\n",
      "  May21-Sep21/20211104_220122 (1).jpg: Upload Successful\n",
      "  ---------\n",
      "/Users/rahul.madan/Desktop/untitled folder\n",
      "  Uploading /Users/rahul.madan/Desktop/untitled folder/IMG_7456.HEIC as gallery-archive/May21-Sep21/IMG_7456.HEIC\n",
      "  May21-Sep21/IMG_7456.HEIC: Upload Successful\n",
      "  ---------\n",
      "/Users/rahul.madan/Desktop/untitled folder\n",
      "  Uploading /Users/rahul.madan/Desktop/untitled folder/20211104_220122 (1).jpg.json as gallery-archive/May21-Sep21/20211104_220122 (1).jpg.json\n",
      "  May21-Sep21/20211104_220122 (1).jpg.json: Upload Successful\n",
      "  ---------\n",
      "/Users/rahul.madan/Desktop/untitled folder\n",
      "  Uploading /Users/rahul.madan/Desktop/untitled folder/IMG_1307.JPG.json as gallery-archive/May21-Sep21/IMG_1307.JPG.json\n",
      "  May21-Sep21/IMG_1307.JPG.json: Upload Successful\n",
      "  ---------\n",
      "/Users/rahul.madan/Desktop/untitled folder\n",
      "  Uploading /Users/rahul.madan/Desktop/untitled folder/IMG_7456.HEIC.json as gallery-archive/May21-Sep21/IMG_7456.HEIC.json\n",
      "  May21-Sep21/IMG_7456.HEIC.json: Upload Successful\n",
      "  ---------\n",
      "/Users/rahul.madan/Desktop/untitled folder\n",
      "  Uploading /Users/rahul.madan/Desktop/untitled folder/IMG_1298.JPG as gallery-archive/May21-Sep21/IMG_1298.JPG\n",
      "  May21-Sep21/IMG_1298.JPG: Upload Successful\n",
      "  ---------\n",
      "/Users/rahul.madan/Desktop/untitled folder\n",
      "  Uploading /Users/rahul.madan/Desktop/untitled folder/IMG_1307.JPG as gallery-archive/May21-Sep21/IMG_1307.JPG\n",
      "  May21-Sep21/IMG_1307.JPG: Upload Successful\n",
      "  ---------\n",
      "/Users/rahul.madan/Desktop/untitled folder\n"
     ]
    }
   ],
   "source": [
    "def upload_to_aws(local_file, s3_file):\n",
    "    bucket = \"gallery-archive\"\n",
    "    extra_args = {'StorageClass': 'DEEP_ARCHIVE'}\n",
    "    \"\"\"local_file, s3_file can be paths\"\"\"\n",
    "    print('  Uploading ' +local_file + ' as ' + bucket + '/' +s3_file)\n",
    "    try:\n",
    "        s3.upload_file(local_file, bucket, s3_file, extra_args)\n",
    "        print('  '+s3_file + \": Upload Successful\")\n",
    "        print('  ---------')\n",
    "        return True\n",
    "    except:\n",
    "        print(\"Credentials not available\")\n",
    "        return False\n",
    "walks = os.walk(\"/Users/rahul.madan/Desktop/untitled folder\")\n",
    "\"\"\"For file names\"\"\"\n",
    "for source, dirs, files in walks:\n",
    "    print('Directory: ' + source)\n",
    "    for filename in files:\n",
    "        # # construct the full local path\n",
    "        # local_file = os.path.join(source, filename)\n",
    "        # # construct the full Dropbox path\n",
    "        # relative_path = os.path.relpath(local_file, local_folder)\n",
    "        # s3_file = os.path.join(s3_folder, relative_path)\n",
    "        # # Invoke upload function\n",
    "        # upload_to_aws(bucket_name, local_file, s3_file)\n",
    "        upload_to_aws(source+'/'+filename, \"May21-Sep21/\"+filename)\n",
    "        print(source)\n",
    "\n",
    "# upload_to_aws('/Users/rahul.madan/Desktop/Screenshot 2023-04-29 at 1.22.37 PM.png', 'Screenshot 2023-04-29 at 1.22.37 PM.png')"
   ],
   "metadata": {
    "collapsed": false
   }
  },
  {
   "cell_type": "markdown",
   "source": [
    "modify this code to upload all items in a folder"
   ],
   "metadata": {
    "collapsed": false
   }
  },
  {
   "cell_type": "code",
   "execution_count": null,
   "outputs": [],
   "source": [
    "import os\n",
    "from sys import argv\n",
    "import boto3\n",
    "from botocore.exceptions import NoCredentialsError\n",
    "\n",
    "ACCESS_KEY = ''\n",
    "SECRET_KEY = ''\n",
    "host = ''\n",
    "bucket_name = ''\n",
    "\n",
    "local_folder, s3_folder = argv[1:3]\n",
    "walks = os.walk(local_folder)\n",
    "# Function to upload to s3\n",
    "def upload_to_aws(bucket, local_file, s3_file):\n",
    "    \"\"\"local_file, s3_file can be paths\"\"\"\n",
    "    s3 = boto3.client('s3', aws_access_key_id=ACCESS_KEY,\n",
    "                      aws_secret_access_key=SECRET_KEY)\n",
    "    print('  Uploading ' +local_file + ' as ' + bucket + '/' +s3_file)\n",
    "    try:\n",
    "        s3.upload_file(local_file, bucket, s3_file)\n",
    "        print('  '+s3_file + \": Upload Successful\")\n",
    "        print('  ---------')\n",
    "        return True\n",
    "    except NoCredentialsError:\n",
    "        print(\"Credentials not available\")\n",
    "        return False\n",
    "\n",
    "\"\"\"For file names\"\"\"\n",
    "for source, dirs, files in walks:\n",
    "    print('Directory: ' + source)\n",
    "    for filename in files:\n",
    "        # construct the full local path\n",
    "        local_file = os.path.join(source, filename)\n",
    "        # construct the full Dropbox path\n",
    "        relative_path = os.path.relpath(local_file, local_folder)\n",
    "        s3_file = os.path.join(s3_folder, relative_path)\n",
    "        # Invoke upload function\n",
    "        upload_to_aws(bucket_name, local_file, s3_file)"
   ],
   "metadata": {
    "collapsed": false
   }
  }
 ],
 "metadata": {
  "kernelspec": {
   "display_name": "Python 3",
   "language": "python",
   "name": "python3"
  },
  "language_info": {
   "codemirror_mode": {
    "name": "ipython",
    "version": 2
   },
   "file_extension": ".py",
   "mimetype": "text/x-python",
   "name": "python",
   "nbconvert_exporter": "python",
   "pygments_lexer": "ipython2",
   "version": "2.7.6"
  }
 },
 "nbformat": 4,
 "nbformat_minor": 0
}
