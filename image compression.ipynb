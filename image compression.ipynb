{
 "cells": [
  {
   "cell_type": "code",
   "execution_count": 29,
   "outputs": [],
   "source": [
    "from PIL import Image\n",
    "\n",
    "def compress(image_file, output_file):\n",
    "    with Image.open(image_file) as img:\n",
    "        image = img.convert('RGB')\n",
    "\n",
    "    image.save(output_file,\n",
    "                 \"JPEG\",\n",
    "                 optimize = False,\n",
    "                 quality = 20)\n",
    "    return\n",
    "\n",
    "compress(\"/Users/rahul.madan/Desktop/IMG-20211121-WA0031.jpg\", '/Users/rahul.madan/Downloads/IMG-20211121-WA0031.jpg')\n"
   ],
   "metadata": {
    "collapsed": false
   }
  },
  {
   "cell_type": "markdown",
   "source": [
    "### Find largest/smallest image file in folder"
   ],
   "metadata": {
    "collapsed": false
   }
  },
  {
   "cell_type": "code",
   "execution_count": 31,
   "outputs": [
    {
     "name": "stdout",
     "output_type": "stream",
     "text": [
      "The largest .jpeg file is /Users/rahul.madan/Downloads/Takeout/Google Photos/Nov 2021/IMG_20211112_153857.jpg with a size of 8335004 bytes.\n"
     ]
    }
   ],
   "source": [
    "import os\n",
    "\n",
    "folder_path = '/Users/rahul.madan/Downloads/Takeout/Google Photos/Nov 2021'\n",
    "jpeg_files = [os.path.join(folder_path, f) for f in os.listdir(folder_path) if f.endswith(\".jpg\") or f.endswith(\".jpeg\") or f.endswith(\".png\") ]\n",
    "\n",
    "if len(jpeg_files) == 0:\n",
    "    print(\"No .jpeg files found in the folder.\")\n",
    "else:\n",
    "    largest_file = max(jpeg_files, key=os.path.getsize)\n",
    "    print(f\"The largest .jpeg file is {largest_file} with a size of {os.path.getsize(largest_file)} bytes.\")"
   ],
   "metadata": {
    "collapsed": false
   }
  },
  {
   "cell_type": "code",
   "execution_count": null,
   "outputs": [],
   "source": [],
   "metadata": {
    "collapsed": false
   }
  }
 ],
 "metadata": {
  "kernelspec": {
   "display_name": "Python 3",
   "language": "python",
   "name": "python3"
  },
  "language_info": {
   "codemirror_mode": {
    "name": "ipython",
    "version": 2
   },
   "file_extension": ".py",
   "mimetype": "text/x-python",
   "name": "python",
   "nbconvert_exporter": "python",
   "pygments_lexer": "ipython2",
   "version": "2.7.6"
  }
 },
 "nbformat": 4,
 "nbformat_minor": 0
}
